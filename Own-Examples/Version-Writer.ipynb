{
 "cells": [
  {
   "cell_type": "code",
   "execution_count": 130,
   "metadata": {},
   "outputs": [],
   "source": [
    "import sys\n",
    "import DownloadAndExtractAndLoadDatasets as DEL # my own Module\n",
    "import pandas as pd\n",
    "import numpy as np\n",
    "import hashlib\n",
    "import types\n",
    "import pip\n",
    "import array"
   ]
  },
  {
   "cell_type": "code",
   "execution_count": 131,
   "metadata": {},
   "outputs": [
    {
     "name": "stdout",
     "output_type": "stream",
     "text": [
      "array==Python BuiltIn\n",
      "sys==Python BuiltIn\n",
      "scikit-learn==0.21.3\n",
      "pandas==0.25.2\n",
      "numpy==1.16.5\n",
      "matplotlib==3.1.1\n",
      "ipython==7.8.0\n",
      "os==unknown\n",
      "types==unknown\n",
      "hashlib==unknown\n",
      "jupyter_client==unknown\n",
      "DownloadAndExtractAndLoadDatasets==unknown\n",
      "pip==unknown\n",
      "pkg_resources==unknown\n"
     ]
    }
   ],
   "source": [
    "    def get_imports():\n",
    "        for name, val in globals().items():\n",
    "            if isinstance(val, types.ModuleType):\n",
    "                # Split ensures you get root package, \n",
    "                # not just imported function\n",
    "                name = val.__name__.split(\".\")[0]\n",
    "            elif isinstance(val, type):\n",
    "                name = val.__module__.split(\".\")[0]\n",
    "            # Some packages are weird and have different\n",
    "            # imported names vs. system/pip names. Unfortunately,\n",
    "            # there is no systematic way to get pip names from\n",
    "            # a package's imported name. You'll have to add\n",
    "            # exceptions to this list manually!\n",
    "            poorly_named_packages = {\n",
    "                \"sklearn\": \"scikit-learn\"\n",
    "            }\n",
    "            if name in poorly_named_packages.keys():\n",
    "                name = poorly_named_packages[name]\n",
    "            yield name.lower()\n",
    "    imports = list(set(get_imports()))\n",
    "\n",
    "    modules = []\n",
    "    for m in sys.builtin_module_names:\n",
    "        if m.lower() in imports and m !='builtins':\n",
    "            modules.append((m,'Python BuiltIn'))\n",
    "            imports.remove(m.lower())\n",
    "\n",
    "    for m in pkg_resources.working_set:\n",
    "        if m.project_name.lower() in imports and m.project_name!=\"pip\":\n",
    "            modules.append((m.project_name, m.version))\n",
    "            imports.remove(m.project_name.lower())\n",
    "\n",
    "    for m in sys.modules:\n",
    "        if m.lower() in imports and m !='builtins':\n",
    "            modules.append((m,'unknown'))\n",
    "\n",
    "    # print('System=='+platform.system()+' '+platform.release()+'; Version=='+platform.version())\n",
    "    for r in modules:\n",
    "        print(\"{}=={}\".format(*r))"
   ]
  },
  {
   "cell_type": "code",
   "execution_count": 132,
   "metadata": {},
   "outputs": [
    {
     "data": {
      "application/javascript": [
       "var nb = IPython.notebook;\n",
       "var kernel = IPython.notebook.kernel;\n",
       "var command = nb + \"'\";\n",
       "kernel.execute(command);\n"
      ],
      "text/plain": [
       "<IPython.core.display.Javascript object>"
      ]
     },
     "metadata": {},
     "output_type": "display_data"
    }
   ],
   "source": [
    "%%javascript\n",
    "var nb = IPython.notebook;\n",
    "var kernel = IPython.notebook.kernel;\n",
    "var command = nb + \"'\";\n",
    "kernel.execute(command);"
   ]
  },
  {
   "cell_type": "code",
   "execution_count": 133,
   "metadata": {},
   "outputs": [],
   "source": [
    "NameOfNotebook = (NOTEBOOK_FULL_PATH)"
   ]
  },
  {
   "cell_type": "code",
   "execution_count": 134,
   "metadata": {},
   "outputs": [
    {
     "data": {
      "text/plain": [
       "'/Desktop/handson-ml-master/Own-Examples/Version-Writer.ipynb'"
      ]
     },
     "execution_count": 134,
     "metadata": {},
     "output_type": "execute_result"
    }
   ],
   "source": [
    "NameOfNotebook"
   ]
  },
  {
   "cell_type": "code",
   "execution_count": 136,
   "metadata": {},
   "outputs": [],
   "source": [
    "# Speichern extern"
   ]
  },
  {
   "cell_type": "code",
   "execution_count": 137,
   "metadata": {},
   "outputs": [
    {
     "name": "stdout",
     "output_type": "stream",
     "text": [
      "3.6.9\n"
     ]
    }
   ],
   "source": [
    "print(python_version())"
   ]
  },
  {
   "cell_type": "code",
   "execution_count": null,
   "metadata": {},
   "outputs": [],
   "source": []
  }
 ],
 "metadata": {
  "kernelspec": {
   "display_name": "Python 3",
   "language": "python",
   "name": "python3"
  },
  "language_info": {
   "codemirror_mode": {
    "name": "ipython",
    "version": 3
   },
   "file_extension": ".py",
   "mimetype": "text/x-python",
   "name": "python",
   "nbconvert_exporter": "python",
   "pygments_lexer": "ipython3",
   "version": "3.6.9"
  }
 },
 "nbformat": 4,
 "nbformat_minor": 2
}
